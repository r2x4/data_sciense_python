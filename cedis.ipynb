{
 "cells": [
  {
   "cell_type": "code",
   "execution_count": 9,
   "id": "e284a6b6",
   "metadata": {},
   "outputs": [
    {
     "name": "stdout",
     "output_type": "stream",
     "text": [
      "Direcciones procesadas: 7050\n",
      "Direcciones insertadas: 437\n"
     ]
    }
   ],
   "source": [
    "import pandas as pd\n",
    "import pyodbc\n",
    "from IPython.display import clear_output\n",
    "\n",
    "# 1) Cargar archivo Excel\n",
    "df = pd.read_excel(\n",
    "    r'C:\\Users\\rrs23\\OneDrive\\Documentos\\OneDrive\\Documentos\\Datos\\BaseQ.xlsx',\n",
    "    sheet_name='Base Principal'\n",
    ")\n",
    "\n",
    "# 2) Limpiar columnas\n",
    "df.columns = df.columns.str.strip()\n",
    "df.rename(columns={'Ciudad': 'ciudad'}, inplace=True)\n",
    "\n",
    "df['codigo_cedi'] = df['codigo_cedi'].astype(str).str.strip()\n",
    "df['direccion_servicio'] = df['direccion_servicio'].astype(str).str.strip()\n",
    "df['ciudad'] = df['ciudad'].astype(str).str.strip().replace('', 'NULL')\n",
    "\n",
    "# 3) Filtrar columnas necesarias y quitar duplicados\n",
    "df_direcciones = df[['codigo_cedi', 'direccion_servicio', 'ciudad']].drop_duplicates()\n",
    "\n",
    "# 4) Conectar a SQL Server\n",
    "conn = pyodbc.connect(\n",
    "    'DRIVER={ODBC Driver 17 for SQL Server};'\n",
    "    'SERVER=localhost;'\n",
    "    'DATABASE=quick;'\n",
    "    'Trusted_Connection=yes;'\n",
    ")\n",
    "cursor = conn.cursor()\n",
    "\n",
    "# 5) Insertar en DireccionesCedis\n",
    "insertados = 0\n",
    "for i, row in df_direcciones.iterrows():\n",
    "    try:\n",
    "        cursor.execute(\"\"\"\n",
    "            INSERT INTO DireccionesCedis (codigo_cedi, direccion_servicio, ciudad)\n",
    "            VALUES (?, ?, ?)\n",
    "        \"\"\", row.codigo_cedi, row.direccion_servicio, row.ciudad if row.ciudad != 'NULL' else None)\n",
    "        insertados += 1\n",
    "\n",
    "        if (i + 1) % 50 == 0:\n",
    "            clear_output(wait=True)\n",
    "            print(f\"Direcciones procesadas: {i + 1}\")\n",
    "\n",
    "    except Exception as e:\n",
    "        print(f\"Error al insertar dirección para {row.codigo_cedi}: {e}\")\n",
    "\n",
    "conn.commit()\n",
    "conn.close()\n",
    "\n",
    "print(f\"Direcciones insertadas: {insertados}\")\n",
    "\n",
    "\n"
   ]
  }
 ],
 "metadata": {
  "kernelspec": {
   "display_name": "Python 3",
   "language": "python",
   "name": "python3"
  },
  "language_info": {
   "codemirror_mode": {
    "name": "ipython",
    "version": 3
   },
   "file_extension": ".py",
   "mimetype": "text/x-python",
   "name": "python",
   "nbconvert_exporter": "python",
   "pygments_lexer": "ipython3",
   "version": "3.13.2"
  }
 },
 "nbformat": 4,
 "nbformat_minor": 5
}

{
 "cells": [
  {
   "cell_type": "markdown",
   "id": "7643baa1",
   "metadata": {},
   "source": [
    "# Practicando Python"
   ]
  },
  {
   "cell_type": "code",
   "execution_count": null,
   "id": "cd81bae4",
   "metadata": {},
   "outputs": [],
   "source": []
  }
 ],
 "metadata": {
  "language_info": {
   "name": "python"
  }
 },
 "nbformat": 4,
 "nbformat_minor": 5
}

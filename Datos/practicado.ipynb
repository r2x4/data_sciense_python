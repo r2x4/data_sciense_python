{
 "cells": [
  {
   "cell_type": "markdown",
   "id": "7643baa1",
   "metadata": {},
   "source": [
    "# Practicando Python"
   ]
  },
  {
   "cell_type": "code",
   "execution_count": null,
   "id": "cd81bae4",
   "metadata": {},
   "outputs": [
    {
     "name": "stdout",
     "output_type": "stream",
     "text": [
      "36\n",
      "288\n",
      "0.5\n",
      "-12\n"
     ]
    }
   ],
   "source": [
    "### Usando funciones en Python\n",
    "\n",
    "num1 = 12\n",
    "num2 = 24\n",
    "\n",
    "def add_numbers(a, b):\n",
    "    \n",
    "    return a + b\n",
    "print( num1 + num2)\n",
    "\n",
    "\n",
    "def multiply_numbers(a, b):\n",
    "    \n",
    "    return a * b\n",
    "print(num2 * num1)\n",
    "\n",
    "def divide_numbers(a, b):\n",
    "    return a / b\n",
    "print(num1 / num2)\n",
    "\n",
    "def subtract_numbers(a, b):\n",
    "    return a - b\n",
    "print(num1 - num2)"
   ]
  },
  {
   "cell_type": "code",
   "execution_count": null,
   "id": "a71b65ae",
   "metadata": {},
   "outputs": [
    {
     "name": "stdout",
     "output_type": "stream",
     "text": [
      "Hola Rodrigo Rocha Sierra, tienes 44 años\n",
      "Hola Rodrigo Rocha Sierra, tienes 44 años\n"
     ]
    }
   ],
   "source": [
    "nombre = str(input('Introduce tu nombre: '))\n",
    "edad = int(input('Introduce tu edad: '))\n",
    "\n",
    "print('Hola ' + nombre + ', tienes ' + edad + ' años')\n",
    "print(f'Hola {nombre}, tienes {edad} años') "
   ]
  },
  {
   "cell_type": "code",
   "execution_count": 22,
   "id": "55b2fa89",
   "metadata": {},
   "outputs": [
    {
     "name": "stdout",
     "output_type": "stream",
     "text": [
      "Los numeros primos hasta 5 son:\n",
      "2 no es primo\n",
      "3 no es primo\n",
      "4 no es primo\n",
      "5 es primo\n"
     ]
    }
   ],
   "source": [
    "### Numeros primos\n",
    "\n",
    "\n",
    "def es_primo(n):\n",
    "    if n < 2:\n",
    "        return False\n",
    "    for i in range(2, int(n**0.5) + 1):\n",
    "        if n % i == 0:\n",
    "            return False\n",
    "        return True\n",
    "\n",
    "n = int(input('introduce u numero: '))\n",
    "\n",
    "print(f'Los numeros primos hasta {n} son:')\n",
    "for num in range(2, n + 1):\n",
    "    if es_primo(num):\n",
    "        print(f'{num} es primo')\n",
    "    else:\n",
    "        print(f'{num} no es primo')"
   ]
  },
  {
   "cell_type": "code",
   "execution_count": 25,
   "id": "d53cee2f",
   "metadata": {},
   "outputs": [
    {
     "name": "stdout",
     "output_type": "stream",
     "text": [
      "1\n",
      "2\n",
      "3\n"
     ]
    }
   ],
   "source": [
    "def numeros():\n",
    "    for i in range(1, 4):\n",
    "        print(i)\n",
    "\n",
    "numeros()"
   ]
  },
  {
   "cell_type": "code",
   "execution_count": null,
   "id": "cea51ddd",
   "metadata": {},
   "outputs": [
    {
     "name": "stdout",
     "output_type": "stream",
     "text": [
      "15\n"
     ]
    }
   ],
   "source": [
    "numero = 5\n",
    "\n",
    "def suma():\n",
    "    total = sum(range(1, numero + 1))\n",
    "    print(total)\n",
    "\n",
    "suma()\n"
   ]
  },
  {
   "cell_type": "code",
   "execution_count": 6,
   "id": "7aff9f3b",
   "metadata": {},
   "outputs": [
    {
     "name": "stdout",
     "output_type": "stream",
     "text": [
      "4567 X 99 = 452133\n",
      "4567 X 100 = 456700\n",
      "4567 X 101 = 461267\n",
      "4567 X 102 = 465834\n"
     ]
    }
   ],
   "source": [
    "### tabla de multiplicar\n",
    "def tabla(n):\n",
    "    for i in range(99, 103):\n",
    "        print(f'{n} X {i} = {n * i}')\n",
    "        \n",
    "n = int(input('Ingresa numero: '))\n",
    "tabla(n)"
   ]
  },
  {
   "cell_type": "code",
   "execution_count": 15,
   "id": "b64a1cf1",
   "metadata": {},
   "outputs": [
    {
     "name": "stdout",
     "output_type": "stream",
     "text": [
      "16 elevado a 3 es 4096\n"
     ]
    }
   ],
   "source": [
    "def potencia(base, exponente):\n",
    "    resultado = 1\n",
    "    for i in range(exponente):\n",
    "        resultado *= base\n",
    "    return resultado\n",
    "    \n",
    "base = int(input('Base: '))\n",
    "exponente = int(input(\"exponente: \"))\n",
    "print(f'{base} elevado a {exponente} es {potencia(base, exponente)}')\n",
    "    "
   ]
  }
 ],
 "metadata": {
  "kernelspec": {
   "display_name": "Python 3",
   "language": "python",
   "name": "python3"
  },
  "language_info": {
   "codemirror_mode": {
    "name": "ipython",
    "version": 3
   },
   "file_extension": ".py",
   "mimetype": "text/x-python",
   "name": "python",
   "nbconvert_exporter": "python",
   "pygments_lexer": "ipython3",
   "version": "3.13.3"
  }
 },
 "nbformat": 4,
 "nbformat_minor": 5
}

{
 "cells": [
  {
   "cell_type": "code",
   "execution_count": 1,
   "id": "c098a0a5",
   "metadata": {},
   "outputs": [
    {
     "name": "stdout",
     "output_type": "stream",
     "text": [
      "Ingresados: 0 registros...\n",
      "Conductores cargados: 41\n"
     ]
    }
   ],
   "source": [
    "import pandas as pd\n",
    "import pyodbc\n",
    "from IPython.display import display, clear_output\n",
    "\n",
    "# 1) Cargo y limpio el DataFrame\n",
    "df = pd.read_excel(\n",
    "    r'C:\\Users\\rrs23\\OneDrive\\Documentos\\OneDrive\\Documentos\\Datos\\BaseQ.xlsx',\n",
    "    sheet_name='Base Principal'\n",
    ")\n",
    "\n",
    "# Limpio espacios y renombro\n",
    "df.columns = df.columns.str.strip()\n",
    "df.rename(columns={\n",
    "    'Conductor': 'nombre_conductor',\n",
    "    'Documento del Conductor del Recurso': 'documento_conductor'\n",
    "}, inplace=True)\n",
    "\n",
    "# 2) Sanear 'documento_conductor' a entero\n",
    "df['documento_conductor'] = (\n",
    "    df['documento_conductor']\n",
    "    .astype(str)\n",
    "    .str.replace(r'[^\\d]', '', regex=True)  # quita no dígitos\n",
    "    .replace('', '0')                       # convierte vacíos en '0'\n",
    "    .astype(int)\n",
    ")\n",
    "\n",
    "# 3) Extraer solo filas únicas\n",
    "df_cd = df[['documento_conductor', 'nombre_conductor']].drop_duplicates()\n",
    "\n",
    "# 4) Conexión y vacío la tabla\n",
    "conn = pyodbc.connect(\n",
    "    'DRIVER={ODBC Driver 17 for SQL Server};'\n",
    "    'SERVER=localhost;'\n",
    "    'DATABASE=quick;'\n",
    "    'Trusted_Connection=yes;'\n",
    ")\n",
    "cursor = conn.cursor()\n",
    "cursor.execute(\"DELETE FROM Conductores;\")\n",
    "conn.commit()\n",
    "\n",
    "# 5) Inserción con progreso cada 50 registros\n",
    "for i, row in df_cd.iterrows():\n",
    "    nombre = row.nombre_conductor.strip() if isinstance(row.nombre_conductor, str) else ''\n",
    "    cursor.execute(\"\"\"\n",
    "        INSERT INTO Conductores (documento_conductor, nombre_conductor)\n",
    "        VALUES (?, ?)\n",
    "    \"\"\", row.documento_conductor, nombre)\n",
    "    \n",
    "    if i % 50 == 0:  # Mostrar el progreso cada 50 filas\n",
    "        clear_output(wait=True)\n",
    "        print(f\"Ingresados: {i} registros...\")\n",
    "\n",
    "conn.commit()\n",
    "\n",
    "# 6) Verificación\n",
    "cursor.execute(\"SELECT COUNT(*) FROM Conductores;\")\n",
    "print(\"Conductores cargados:\", cursor.fetchone()[0])\n",
    "\n",
    "# 7) Cerrar conexión\n",
    "conn.close()"
   ]
  }
 ],
 "metadata": {
  "kernelspec": {
   "display_name": "Python 3",
   "language": "python",
   "name": "python3"
  },
  "language_info": {
   "codemirror_mode": {
    "name": "ipython",
    "version": 3
   },
   "file_extension": ".py",
   "mimetype": "text/x-python",
   "name": "python",
   "nbconvert_exporter": "python",
   "pygments_lexer": "ipython3",
   "version": "3.13.2"
  }
 },
 "nbformat": 4,
 "nbformat_minor": 5
}

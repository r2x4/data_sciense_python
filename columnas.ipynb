{
 "cells": [
  {
   "cell_type": "code",
   "execution_count": 2,
   "id": "e27de3c3",
   "metadata": {},
   "outputs": [
    {
     "name": "stdout",
     "output_type": "stream",
     "text": [
      "['ruta', 'numero_del_servicio', 'estado', 'creado_por', 'documento_cliente', 'nombre_cliente', 'numero_telefono', 'novedad', 'descripcion_de_novedad', 'Ciudad', 'codigo_cedi', 'nombre_cedi', 'direccion_servicio', 'barrio', 'fecha_de_servicio', 'Tipo de servicio', 'descripcion', 'Recurso', 'Documento del Conductor del Recurso', 'Conductor', 'Planeados', 'Ubicados', 'quien_recibe', 'tiempo_estimado', 'ventanas_horarias', 'Ventana_Inicio', 'Ventana_fin', 'Ventana_Tiempo', 'ID REFERENCIA CLIENTE ', 'Solicitante del Servicio', 'Administrado por la app', 'ShipmentId', 'representante', 'Numero Telefonicorepresentante', 'Fecha Cirugia', 'Tipo de Cirugia ', 'Tipo de Documento', 'Causal Predespacho', 'Numero de ruta - Llegado', 'Franquicia', 'No Aplica', 'Opciones en llegada - Llegado', 'Correo Cliente', 'Id', 'fecha_de_creacion', 'alcance_de_novedad', 'Municipio', 'Departamento', 'Tienda que vende', 'zona', 'Tiempo de descarga [min]', 'longitud', 'latitud', 'tiempo_de_promesa', 'Orden', 'distancia_en_metros', 'link_de_imagenes', 'firmas', 'cantidad_de_imagenes', 'Correo Solicitante', 'Productos Asociados con Error', 'Productos Asociados', 'Correo Usuario Creador', 'Recaudo', 'Valor Flete', 'Flete', 'Valor del pedido', 'Tipo de Cobro', 'recibido_picking', 'asignado', 'aceptado', 'llegado', 'reprogramar', 'cancelado', 'atendido', 'finalizado']\n"
     ]
    }
   ],
   "source": [
    "import pandas as pd\n",
    "\n",
    "# Cargar el DataFrame\n",
    "df = pd.read_excel(\n",
    "    r'C:\\Users\\rrs23\\OneDrive\\Documentos\\OneDrive\\Documentos\\Datos\\BaseQ.xlsx',\n",
    "    sheet_name='Base Principal'\n",
    ")\n",
    "\n",
    "# Mostrar las columnas del DataFrame\n",
    "print(df.columns.tolist())\n"
   ]
  }
 ],
 "metadata": {
  "kernelspec": {
   "display_name": "Python 3",
   "language": "python",
   "name": "python3"
  },
  "language_info": {
   "codemirror_mode": {
    "name": "ipython",
    "version": 3
   },
   "file_extension": ".py",
   "mimetype": "text/x-python",
   "name": "python",
   "nbconvert_exporter": "python",
   "pygments_lexer": "ipython3",
   "version": "3.13.2"
  }
 },
 "nbformat": 4,
 "nbformat_minor": 5
}
